{
 "cells": [
  {
   "cell_type": "markdown",
   "id": "a41020b7",
   "metadata": {},
   "source": [
    "# Python Classes (Object oriented programming)\n",
    "\n",
    "## Object:\n",
    "\n",
    "In OOP, an object is a thing capable of having attributes (characteristics) and methods (functionality)."
   ]
  },
  {
   "cell_type": "code",
   "execution_count": 61,
   "id": "733b88b5",
   "metadata": {},
   "outputs": [],
   "source": [
    "import turtle\n",
    "turtle.TurtleScreen._RUNNING=True\n",
    "\n",
    "class Polygon:\n",
    "    def __init__(self, sides, name, size=100, color= \"red\", line_thickness=.1):\n",
    "        self.sides= sides\n",
    "        self.name= name\n",
    "        self.size= size\n",
    "        self.color= color\n",
    "        self.line_thickness= line_thickness\n",
    "        self.interior_angles= (self.sides-2)*180 #sum of interior angles in a polygon\n",
    "        self.angle= self.interior_angles/self.sides\n",
    "\n",
    "    def draw(self):\n",
    "        turtle.color(self.color)\n",
    "        turtle.pensize(self.line_thickness)\n",
    "        for i in range(self.sides):\n",
    "            turtle.forward(self.size)\n",
    "            turtle.right(180 - self.angle)"
   ]
  },
  {
   "cell_type": "code",
   "execution_count": null,
   "id": "766c6dad",
   "metadata": {},
   "outputs": [],
   "source": [
    "square= Polygon(4,\"Square\")\n",
    "triangle= Polygon(3, \"Triangle\")\n",
    "hexagon= Polygon(6, \"Hexagon\", line_thickness=2)\n",
    "hexagon.draw()"
   ]
  },
  {
   "cell_type": "markdown",
   "id": "e838ff61",
   "metadata": {},
   "source": [
    "## Subclass:\n",
    "\n",
    "Once a class is defined. Subclasses are objects that can inherit attributes and methods from that class but have attributes and methods that the class doesn't have.\n",
    "\n",
    "Using the super() method, subclasses can inherit classes' attributes and methods and these can be modified."
   ]
  },
  {
   "cell_type": "code",
   "execution_count": 69,
   "id": "625adc84",
   "metadata": {},
   "outputs": [],
   "source": [
    "class Square(Polygon):\n",
    "    def __init__(self, size=100, color=\"black\", line_thickness=.2):\n",
    "        super().__init__(4, \"Square\", size, color, line_thickness) #some properties are define and other just inherited.\n",
    "        \n",
    "    def draw(self): #draw method of Square it's not the draw method of Polygon\n",
    "        turtle.begin_fill()\n",
    "        super().draw()\n",
    "        turtle.end_fill()"
   ]
  },
  {
   "cell_type": "code",
   "execution_count": 71,
   "id": "1e2a2027",
   "metadata": {},
   "outputs": [],
   "source": [
    "#all methods are inherited from Polygon\n",
    "\n",
    "square= Square(color=\"red\")\n",
    "\n",
    "square.draw()\n",
    "\n",
    "turtle.done()"
   ]
  },
  {
   "cell_type": "code",
   "execution_count": null,
   "id": "271fcb19",
   "metadata": {},
   "outputs": [],
   "source": []
  }
 ],
 "metadata": {
  "kernelspec": {
   "display_name": "Python 3 (ipykernel)",
   "language": "python",
   "name": "python3"
  },
  "language_info": {
   "codemirror_mode": {
    "name": "ipython",
    "version": 3
   },
   "file_extension": ".py",
   "mimetype": "text/x-python",
   "name": "python",
   "nbconvert_exporter": "python",
   "pygments_lexer": "ipython3",
   "version": "3.9.7"
  }
 },
 "nbformat": 4,
 "nbformat_minor": 5
}
